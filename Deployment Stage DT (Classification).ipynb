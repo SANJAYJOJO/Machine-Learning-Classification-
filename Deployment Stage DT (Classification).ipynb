{
 "cells": [
  {
   "cell_type": "code",
   "execution_count": 1,
   "id": "11ec503a",
   "metadata": {},
   "outputs": [
    {
     "name": "stdout",
     "output_type": "stream",
     "text": [
      "Enter The Age:51\n",
      "Enter The salary:23000\n",
      "are you male?:1\n"
     ]
    }
   ],
   "source": [
    "Age_input=int(input(\"Enter The Age:\"))\n",
    "EstimatedSalary_input=int(input(\"Enter The salary:\"))\n",
    "Gender_Male=int(input(\"are you male?:\"))"
   ]
  },
  {
   "cell_type": "code",
   "execution_count": 2,
   "id": "51e44f46",
   "metadata": {},
   "outputs": [
    {
     "name": "stdout",
     "output_type": "stream",
     "text": [
      "Future_Prediction=[1]\n"
     ]
    },
    {
     "name": "stderr",
     "output_type": "stream",
     "text": [
      "C:\\Users\\User\\anaconda3\\Lib\\site-packages\\sklearn\\base.py:464: UserWarning: X does not have valid feature names, but DecisionTreeClassifier was fitted with feature names\n",
      "  warnings.warn(\n"
     ]
    }
   ],
   "source": [
    "import pickle\n",
    "loaded_model=pickle.load(open('Finalized_DT_Classifiction.sav','rb'))\n",
    "result=loaded_model.predict([[Age_input,EstimatedSalary_input,Gender_Male]])\n",
    "print(\"Future_Prediction={}\".format(result))"
   ]
  },
  {
   "cell_type": "code",
   "execution_count": null,
   "id": "021708f7",
   "metadata": {},
   "outputs": [],
   "source": []
  }
 ],
 "metadata": {
  "kernelspec": {
   "display_name": "Python 3 (ipykernel)",
   "language": "python",
   "name": "python3"
  },
  "language_info": {
   "codemirror_mode": {
    "name": "ipython",
    "version": 3
   },
   "file_extension": ".py",
   "mimetype": "text/x-python",
   "name": "python",
   "nbconvert_exporter": "python",
   "pygments_lexer": "ipython3",
   "version": "3.11.5"
  }
 },
 "nbformat": 4,
 "nbformat_minor": 5
}
