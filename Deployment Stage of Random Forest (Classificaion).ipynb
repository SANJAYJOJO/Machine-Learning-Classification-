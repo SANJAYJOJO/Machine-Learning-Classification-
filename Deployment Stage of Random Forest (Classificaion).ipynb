{
 "cells": [
  {
   "cell_type": "code",
   "execution_count": null,
   "id": "88e96682",
   "metadata": {},
   "outputs": [],
   "source": [
    "Age_input=int(input(\"Enter The Age:\"))\n",
    "EstimatedSalary_input=int(input(\"Enter The salary:\"))\n",
    "Gender_Male=int(input(\"are you male?:\"))\n"
   ]
  },
  {
   "cell_type": "code",
   "execution_count": null,
   "id": "8b798333",
   "metadata": {},
   "outputs": [],
   "source": [
    "import pickle\n",
    "load_model=pickle.load(open(\"Finalized_RF_Classifiction.sav\",'rb'))\n",
    "result=load_model.predict([[Age_input,EstimatedSalary_input,Gender_Male]])"
   ]
  }
 ],
 "metadata": {
  "kernelspec": {
   "display_name": "Python 3 (ipykernel)",
   "language": "python",
   "name": "python3"
  },
  "language_info": {
   "codemirror_mode": {
    "name": "ipython",
    "version": 3
   },
   "file_extension": ".py",
   "mimetype": "text/x-python",
   "name": "python",
   "nbconvert_exporter": "python",
   "pygments_lexer": "ipython3",
   "version": "3.11.5"
  }
 },
 "nbformat": 4,
 "nbformat_minor": 5
}
